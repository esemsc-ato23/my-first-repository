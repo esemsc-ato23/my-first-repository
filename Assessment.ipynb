{
  "nbformat": 4,
  "nbformat_minor": 0,
  "metadata": {
    "colab": {
      "provenance": [],
      "include_colab_link": true
    },
    "kernelspec": {
      "name": "python3",
      "display_name": "Python 3"
    },
    "language_info": {
      "name": "python"
    }
  },
  "cells": [
    {
      "cell_type": "markdown",
      "metadata": {
        "id": "view-in-github",
        "colab_type": "text"
      },
      "source": [
        "<a href=\"https://colab.research.google.com/github/esemsc-ato23/my-first-repository/blob/main/Assessment.ipynb\" target=\"_parent\"><img src=\"https://colab.research.google.com/assets/colab-badge.svg\" alt=\"Open In Colab\"/></a>"
      ]
    },
    {
      "cell_type": "markdown",
      "source": [
        "# **Assessment 1**\n",
        "\n",
        "For our first assessment, our goal is to solve an imputation problem: we will create a neural network architecture that learns how to recover missing portions of an image.\n",
        "\n",
        "This is an important problem in magnetic resonance imaging (MRI), where patient scans are often limited to a few areas to avoid lengthy scanning times.\n",
        "\n",
        "In particular, we are going to focus on images of human heads. We have managed to gain access to one hundred images of patient's heads but, unfortunately, these images have a significant portion of missing information. Your goal during the assessment is to design a neural network that can recover these missing portions.\n",
        "\n",
        "<br>\n",
        "\n",
        "---\n",
        "\n",
        "<br>\n",
        "\n",
        "We do not have access to the labels for the images we want to recover, so we will have to be a bit creative to obtain a workable dataset on which to train our neural network.\n",
        "\n",
        "Fortunately for us, we have access to a generative model that has been trained to produce realistic-looking MRI images of patient's heads. Using this model, you will create an appropriate dataset to train your architecture. We have provided you with the basic setup code to start using this generative model in **Question 1** below.\n",
        "\n",
        "The corrupted images that we want to recover are contained in the numpy file `test_set.npy` of this repository. The file contains 100 patient images with a size of 64x64 pixels.\n",
        "\n",
        "The architecture that you design in this assessment should use the artificially-generated dataset in order to recover the missing information in the images contained in `test_set.npy`.\n",
        "\n",
        "<br>\n",
        "\n",
        "All answers to the assessment should be contained within the structure below, but you are free to add new code and text cells as required to your answers. Read the text for each question and follow the instructions carefully. Answers that do not follow this structure will not be marked. **Do NOT change the name of this file.**\n",
        "\n",
        "Please, **make sure to execute all your cells and save the result of the execution**. We will only mark cells that have been executed and will not execute any cells ourselves.\n",
        "\n",
        "<br>\n",
        "\n",
        "---\n",
        "\n",
        "<br>\n",
        "\n",
        "<br><br>"
      ],
      "metadata": {
        "id": "-QqVRXQpJ8pd"
      }
    },
    {
      "cell_type": "markdown",
      "source": [
        "## **Question 1**  (25%)\n",
        "\n",
        "Using the provided image-generation network, create a dataset of brain images that will later be used to train your chosen architecture.\n",
        "\n",
        "Given that you will likely want to use this dataset multiple times during training, we recommend that you save the generated images to an appropriate folder in your GDrive.\n",
        "\n",
        "Once you have generated your dataset, load and display ten of your generated images here.\n",
        "\n",
        "We have also provided you with some corrupted images in the file `test_set.npy` of this repository. You should also load and display ten of these corrupted images here.\n",
        "\n",
        "Below, we have provided template code, including some required downloads and installations, so that you can easily use the trained generative model. Sample generation in this model is done using the function `generate`, and is controlled by some input arguments. It is your job to figure out a sensible set of parameters that will produce images that are useful for the requirements of your task.\n",
        "\n",
        "<br>"
      ],
      "metadata": {
        "id": "N7wmUvz7Ssz1"
      }
    },
    {
      "cell_type": "code",
      "execution_count": 1,
      "metadata": {
        "id": "dDzTDiZyJ6Fp"
      },
      "outputs": [],
      "source": [
        "import os\n",
        "import sys"
      ]
    },
    {
      "cell_type": "code",
      "source": [
        "# Pull and install necessary files\n",
        "!gdown 1-6JPxY7rUySRaCXTKHD400e8UWs2DZiY # run.sh\n",
        "!gdown --folder 1-PJmUzB9HN3mCKsl7qKGlUynltY5ttp7 # ese-invldm\n",
        "!gdown --folder 1-V9EOGuiYOiszIg3pA15D9ThwXO1gr4E # files\n",
        "!chmod +x run.sh\n",
        "!bash ./run.sh\n",
        "sys.path.append('/content/ese-invldm')"
      ],
      "metadata": {
        "id": "A0Whr9g1Vffe",
        "outputId": "7aba0032-3322-4942-c012-77176db610e7",
        "colab": {
          "base_uri": "https://localhost:8080/"
        }
      },
      "execution_count": 2,
      "outputs": [
        {
          "output_type": "stream",
          "name": "stdout",
          "text": [
            "Downloading...\n",
            "From (original): https://drive.google.com/uc?id=1-6JPxY7rUySRaCXTKHD400e8UWs2DZiY\n",
            "From (redirected): https://drive.google.com/uc?id=1-6JPxY7rUySRaCXTKHD400e8UWs2DZiY&confirm=t&uuid=2b652e59-8b15-4722-8000-885c849e6786\n",
            "To: /content/run.sh\n",
            "\r  0% 0.00/530 [00:00<?, ?B/s]\r100% 530/530 [00:00<00:00, 1.08MB/s]\n",
            "Retrieving folder contents\n",
            "Retrieving folder 1Kc3TJ6yXVM6ugT_i4OBX5yH0Bf_oTYas ese_invldm\n",
            "Processing file 1J-KQfIzlYuWH_qAMP_7kY0AT12NTANEG __init__.py\n",
            "Processing file 1IjiAQ0hqDfpqYxh4zSKEfsAh7iV8226i ese_invldm.py\n",
            "Processing file 1JlBHxSRrEUewrHmGcf4S8hh02Sz-xT66 setup.py\n",
            "Retrieving folder contents completed\n",
            "Building directory structure\n",
            "Building directory structure completed\n",
            "Downloading...\n",
            "From (original): https://drive.google.com/uc?id=1J-KQfIzlYuWH_qAMP_7kY0AT12NTANEG\n",
            "From (redirected): https://drive.google.com/uc?id=1J-KQfIzlYuWH_qAMP_7kY0AT12NTANEG&confirm=t&uuid=3175c9b1-58c5-442a-ac42-e061c52ca2c5\n",
            "To: /content/ese-invldm/ese_invldm/__init__.py\n",
            "100% 32.0/32.0 [00:00<00:00, 111kB/s]\n",
            "Downloading...\n",
            "From (original): https://drive.google.com/uc?id=1IjiAQ0hqDfpqYxh4zSKEfsAh7iV8226i\n",
            "From (redirected): https://drive.google.com/uc?id=1IjiAQ0hqDfpqYxh4zSKEfsAh7iV8226i&confirm=t&uuid=f17c8149-15a7-44fc-b9e1-e44eac908939\n",
            "To: /content/ese-invldm/ese_invldm/ese_invldm.py\n",
            "100% 6.78k/6.78k [00:00<00:00, 20.2MB/s]\n",
            "Downloading...\n",
            "From (original): https://drive.google.com/uc?id=1JlBHxSRrEUewrHmGcf4S8hh02Sz-xT66\n",
            "From (redirected): https://drive.google.com/uc?id=1JlBHxSRrEUewrHmGcf4S8hh02Sz-xT66&confirm=t&uuid=632bed56-bd61-4fce-ab8f-2d66f16072a2\n",
            "To: /content/ese-invldm/setup.py\n",
            "100% 318/318 [00:00<00:00, 876kB/s]\n",
            "Download completed\n",
            "Retrieving folder contents\n",
            "Retrieving folder 1I2hriqxZIBlz94dJFvVL-Uo7-_wUXI48 autoencoder\n",
            "Processing file 1IV1Y9IUx9E4D_vrAt6NziB6iwoo0tG59 autoencoder_ckpt_latest.pth\n",
            "Retrieving folder 1I1akZexH5axbA9XrXT6pC7pwm9I_Ajg0 diffusion\n",
            "Processing file 1IkMJkjH-vDI_XRWcZuueovkXEkWw3kbu diffusion_ckpt_latest.pth\n",
            "Processing file 1-B8CvJhe0JBayVkOR-B1e9cuH76_T_ES config_training.yml\n",
            "Processing file 1-bPQXVky6s6u80wR_gv07jIANCRhxU0o default_config.yml\n",
            "Retrieving folder contents completed\n",
            "Building directory structure\n",
            "Building directory structure completed\n",
            "Failed to retrieve file url:\n",
            "\n",
            "\tToo many users have viewed or downloaded this file recently. Please\n",
            "\ttry accessing the file again later. If the file you are trying to\n",
            "\taccess is particularly large or is shared with many people, it may\n",
            "\ttake up to 24 hours to be able to view or download the file. If you\n",
            "\tstill can't access a file after 24 hours, contact your domain\n",
            "\tadministrator.\n",
            "\n",
            "You may still be able to access the file from the browser:\n",
            "\n",
            "\thttps://drive.google.com/uc?id=1IV1Y9IUx9E4D_vrAt6NziB6iwoo0tG59\n",
            "\n",
            "but Gdown can't. Please check connections and permissions.\n",
            "Cloning the repository from https://github.com/dpelacani/InverseLDM.git...\n",
            "Cloning into 'InverseLDM'...\n",
            "remote: Enumerating objects: 1331, done.\u001b[K\n",
            "remote: Counting objects: 100% (261/261), done.\u001b[K\n",
            "remote: Compressing objects: 100% (161/161), done.\u001b[K\n",
            "remote: Total 1331 (delta 167), reused 182 (delta 100), pack-reused 1070 (from 1)\u001b[K\n",
            "Receiving objects: 100% (1331/1331), 467.16 KiB | 4.13 MiB/s, done.\n",
            "Resolving deltas: 100% (875/875), done.\n",
            "  Preparing metadata (setup.py) ... \u001b[?25l\u001b[?25hdone\n",
            "\u001b[2K     \u001b[90m━━━━━━━━━━━━━━━━━━━━━━━━━━━━━━━━━━━━━━━━\u001b[0m \u001b[32m51.0/51.0 kB\u001b[0m \u001b[31m2.4 MB/s\u001b[0m eta \u001b[36m0:00:00\u001b[0m\n",
            "\u001b[2K   \u001b[90m━━━━━━━━━━━━━━━━━━━━━━━━━━━━━━━━━━━━━━━━\u001b[0m \u001b[32m175.9/175.9 kB\u001b[0m \u001b[31m6.8 MB/s\u001b[0m eta \u001b[36m0:00:00\u001b[0m\n",
            "\u001b[2K   \u001b[90m━━━━━━━━━━━━━━━━━━━━━━━━━━━━━━━━━━━━━━━━\u001b[0m \u001b[32m176.2/176.2 kB\u001b[0m \u001b[31m9.3 MB/s\u001b[0m eta \u001b[36m0:00:00\u001b[0m\n",
            "\u001b[2K   \u001b[90m━━━━━━━━━━━━━━━━━━━━━━━━━━━━━━━━━━━━━━━━\u001b[0m \u001b[32m53.8/53.8 kB\u001b[0m \u001b[31m3.6 MB/s\u001b[0m eta \u001b[36m0:00:00\u001b[0m\n",
            "\u001b[2K   \u001b[90m━━━━━━━━━━━━━━━━━━━━━━━━━━━━━━━━━━━━━━━━\u001b[0m \u001b[32m1.5/1.5 MB\u001b[0m \u001b[31m38.0 MB/s\u001b[0m eta \u001b[36m0:00:00\u001b[0m\n",
            "\u001b[2K   \u001b[90m━━━━━━━━━━━━━━━━━━━━━━━━━━━━━━━━━━━━━━━━\u001b[0m \u001b[32m52.4/52.4 MB\u001b[0m \u001b[31m12.1 MB/s\u001b[0m eta \u001b[36m0:00:00\u001b[0m\n",
            "\u001b[?25h  Building wheel for nvidia-ml-py3 (setup.py) ... \u001b[?25l\u001b[?25hdone\n"
          ]
        }
      ]
    },
    {
      "cell_type": "code",
      "source": [
        "from ese_invldm import generate\n",
        "\n",
        "\"\"\"\n",
        "Generates samples using a diffusion-based generative model.\n",
        "\n",
        "This function leverages a pre-configured diffusion model to produce synthetic samples.\n",
        "The sampling process supports adjustable parameters for total samples, inference steps, and batch size.\n",
        "A scheduler and temperature can also be configured to control the sampling behaviour.\n",
        "\n",
        "Parameters:\n",
        "    num_samples (int):\n",
        "        Total number of samples to generate.\n",
        "    num_inference_steps (int):\n",
        "        Number of diffusion inference steps.\n",
        "        The minimum number of steps is 1, but we recommend exploring the range from 10 to 50.\n",
        "        Please note that more steps will increase quality but also the computational cost. Be careful not\n",
        "        to burn through your credits by using a very large number of steps!\n",
        "    batch_size (int):\n",
        "        Number of samples to process in each batch during sampling.\n",
        "    scheduler (str, optional):\n",
        "        Sampling scheduler to use (e.g., \"ddim\", \"ddpm\"). You can quickly test which one provides the most appropriate results\n",
        "        for this task.\n",
        "    temperature (float, optional):\n",
        "        Sampling temperature to control randomness, given as a number between 0 and 1. Higher values produce more diverse outputs.\n",
        "    seed (int, optional):\n",
        "        Random seed for reproducibility. Defaults to 42.\n",
        "\n",
        "Returns:\n",
        "    list:\n",
        "        A list containing the batches of generated samples, where each sample\n",
        "        corresponds to a single data instance produced by the diffusion model.\n",
        "\n",
        "\"\"\"\n",
        "\n",
        "samples = generate(##)"
      ],
      "metadata": {
        "id": "6KbXjEepVhTO"
      },
      "execution_count": null,
      "outputs": []
    },
    {
      "cell_type": "markdown",
      "source": [
        "<br>\n",
        "\n",
        "---\n",
        "\n",
        "<br>\n",
        "\n",
        "## **Question 2**  (25%)\n",
        "\n",
        "Using the data generated in **Question 1**, create a PyTorch `TensorDataset` and a `DataLoader` for the training set.\n",
        "\n",
        "Using the provided corrupted images inside `test_set.npy`, create another `TensorDataset` and a `DataLoader` for the test set.\n",
        "\n",
        "The training dataset should provide batches of brain images generated in **Question 1** and should corrupt these images appropriately so that they resemble images in the test set. The dataset should also pair each image with its corresponding un-corrupted image as a label.\n",
        "\n",
        "The test dataset should provide the corrupted images provided, for which no labels are available.\n",
        "\n",
        "Display here ten images of your training dataset and ten images of your test dataset, and their corresponding labels when available.\n",
        "\n",
        "<br>\n",
        "\n"
      ],
      "metadata": {
        "id": "mBVr6D2oSInX"
      }
    },
    {
      "cell_type": "code",
      "source": [],
      "metadata": {
        "id": "NuETd-X2SKPc"
      },
      "execution_count": null,
      "outputs": []
    },
    {
      "cell_type": "markdown",
      "source": [
        "<br>\n",
        "\n",
        "---\n",
        "\n",
        "<br>\n",
        "\n",
        "## **Question 3** (50%)\n",
        "\n",
        "Using the dataset created in **Question 2**, design and train an architecture to recover the missing image lines of the provided test dataset.\n",
        "\n",
        "Once you have trained your architecture, display here ten images of the test set with the recovered lines filled in.\n",
        "\n",
        "Additionally, save the test data with the missing values filled in into a numpy file called `test_set_nogaps.npy`. These images should be **in the same order** as those in the `test_set.npy` file and should have the same pixel size of 64x64. **Any images not contained in the `test_set_nogaps.npy` file or incorrectly ordered will not be marked.**\n",
        "\n",
        "You have freedom to choose an architecture that you consider appropriate to solve this problem. However, you will need to train your chosen architecture as part of the assessment: **pre-trained networks are not allowed**.\n",
        "\n",
        "You will be assessed by the quality of your predictions of the missing data values and additional marks will be given for originality in your network design choices. You should include, as part of your answer, a paragraph explaining the architecture you have chosen and any additional design choices and hyperparameters that have been important to build your solution.\n",
        "\n",
        "This is an open-book assessment and you are encouraged to use resources online, including  tools like chatGPT. However, make sure to always mention the sources for your code and ideas, including websites, papers, and tools like chatGPT.\n",
        "\n",
        "<br>\n"
      ],
      "metadata": {
        "id": "1-AoRoLUSKoH"
      }
    },
    {
      "cell_type": "code",
      "source": [],
      "metadata": {
        "id": "KFNwYx_hSMG6"
      },
      "execution_count": null,
      "outputs": []
    },
    {
      "cell_type": "markdown",
      "source": [
        "<br>\n",
        "\n",
        "---\n",
        "\n",
        "<br>"
      ],
      "metadata": {
        "id": "5cdZQIkWu0_r"
      }
    }
  ]
}